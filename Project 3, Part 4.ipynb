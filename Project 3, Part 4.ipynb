{
 "cells": [
  {
   "cell_type": "markdown",
   "id": "e0e4ca35",
   "metadata": {},
   "source": [
    "# Project 3, Part 3\n",
    "- Martisha Owens\n",
    "- 12/9/2022"
   ]
  },
  {
   "cell_type": "markdown",
   "id": "51820734",
   "metadata": {},
   "source": [
    "## Imports"
   ]
  },
  {
   "cell_type": "code",
   "execution_count": 20,
   "id": "34b49fa0",
   "metadata": {},
   "outputs": [],
   "source": [
    "import pandas as pd\n",
    "import numpy as np\n",
    "import matplotlib.pyplot as plt\n",
    "import seaborn as sns\n",
    "\n",
    "import os, time, json\n",
    "import tmdbsimple as tmdb \n",
    "from tqdm.notebook import tqdm_notebook\n",
    "\n",
    "import pymysql\n",
    "pymysql.install_as_MySQLdb()\n",
    "from sqlalchemy import create_engine\n",
    "from sqlalchemy_utils import create_database, database_exists\n",
    "\n",
    "import scipy.stats as stats"
   ]
  },
  {
   "cell_type": "code",
   "execution_count": 21,
   "id": "553a564a",
   "metadata": {},
   "outputs": [],
   "source": [
    "with open('/Users/martishaowens/.secret/tmdb_api.json', 'r') as f:\n",
    "    login = json.load(f)\n",
    "login.keys()\n",
    "tmdb.API_KEY =  login['api-key']"
   ]
  },
  {
   "cell_type": "markdown",
   "id": "459ce001",
   "metadata": {},
   "source": [
    "## Define Functions"
   ]
  },
  {
   "cell_type": "code",
   "execution_count": 13,
   "id": "8f7dfa64",
   "metadata": {},
   "outputs": [],
   "source": [
    "def get_movie_with_rating(movie_id):\n",
    "    movie = tmdb.Movies(movie_id)\n",
    "    \n",
    "    info = movie.info()\n",
    "    \n",
    "    releases = movie.releases()\n",
    "    \n",
    "    for c in releases['countries']:\n",
    "        if c['iso_3166_1' ] =='US':\n",
    "            info['certification'] = c['certification']\n",
    "    return info"
   ]
  },
  {
   "cell_type": "code",
   "execution_count": 14,
   "id": "f45b6b13",
   "metadata": {},
   "outputs": [],
   "source": [
    "def write_json(new_data, filename): \n",
    "    \"\"\"Appends a list of records (new_data) to a json file (filename). \"\"\"\n",
    "    \n",
    "    with open(filename,'r+') as file:\n",
    "        file_data = json.load(file)\n",
    "        if (type(new_data) == list) & (type(file_data) == list):\n",
    "            file_data.extend(new_data)\n",
    "        else:\n",
    "             file_data.append(new_data)\n",
    "        file.seek(0)\n",
    "        json.dump(file_data, file)"
   ]
  },
  {
   "cell_type": "markdown",
   "id": "cb5b103d",
   "metadata": {},
   "source": [
    "## API Loop"
   ]
  },
  {
   "cell_type": "code",
   "execution_count": 22,
   "id": "2123eede",
   "metadata": {},
   "outputs": [
    {
     "data": {
      "text/html": [
       "<div>\n",
       "<style scoped>\n",
       "    .dataframe tbody tr th:only-of-type {\n",
       "        vertical-align: middle;\n",
       "    }\n",
       "\n",
       "    .dataframe tbody tr th {\n",
       "        vertical-align: top;\n",
       "    }\n",
       "\n",
       "    .dataframe thead th {\n",
       "        text-align: right;\n",
       "    }\n",
       "</style>\n",
       "<table border=\"1\" class=\"dataframe\">\n",
       "  <thead>\n",
       "    <tr style=\"text-align: right;\">\n",
       "      <th></th>\n",
       "      <th>tconst</th>\n",
       "      <th>titleType</th>\n",
       "      <th>primaryTitle</th>\n",
       "      <th>originalTitle</th>\n",
       "      <th>isAdult</th>\n",
       "      <th>startYear</th>\n",
       "      <th>runtimeMinutes</th>\n",
       "      <th>genres</th>\n",
       "    </tr>\n",
       "  </thead>\n",
       "  <tbody>\n",
       "    <tr>\n",
       "      <th>0</th>\n",
       "      <td>tt0035423</td>\n",
       "      <td>movie</td>\n",
       "      <td>Kate &amp; Leopold</td>\n",
       "      <td>Kate &amp; Leopold</td>\n",
       "      <td>0</td>\n",
       "      <td>2001</td>\n",
       "      <td>118</td>\n",
       "      <td>Comedy,Fantasy,Romance</td>\n",
       "    </tr>\n",
       "    <tr>\n",
       "      <th>1</th>\n",
       "      <td>tt0062336</td>\n",
       "      <td>movie</td>\n",
       "      <td>The Tango of the Widower and Its Distorting Mi...</td>\n",
       "      <td>El Tango del Viudo y Su Espejo Deformante</td>\n",
       "      <td>0</td>\n",
       "      <td>2020</td>\n",
       "      <td>70</td>\n",
       "      <td>Drama</td>\n",
       "    </tr>\n",
       "    <tr>\n",
       "      <th>2</th>\n",
       "      <td>tt0069049</td>\n",
       "      <td>movie</td>\n",
       "      <td>The Other Side of the Wind</td>\n",
       "      <td>The Other Side of the Wind</td>\n",
       "      <td>0</td>\n",
       "      <td>2018</td>\n",
       "      <td>122</td>\n",
       "      <td>Drama</td>\n",
       "    </tr>\n",
       "    <tr>\n",
       "      <th>3</th>\n",
       "      <td>tt0088751</td>\n",
       "      <td>movie</td>\n",
       "      <td>The Naked Monster</td>\n",
       "      <td>The Naked Monster</td>\n",
       "      <td>0</td>\n",
       "      <td>2005</td>\n",
       "      <td>100</td>\n",
       "      <td>Comedy,Horror,Sci-Fi</td>\n",
       "    </tr>\n",
       "    <tr>\n",
       "      <th>4</th>\n",
       "      <td>tt0096056</td>\n",
       "      <td>movie</td>\n",
       "      <td>Crime and Punishment</td>\n",
       "      <td>Crime and Punishment</td>\n",
       "      <td>0</td>\n",
       "      <td>2002</td>\n",
       "      <td>126</td>\n",
       "      <td>Drama</td>\n",
       "    </tr>\n",
       "  </tbody>\n",
       "</table>\n",
       "</div>"
      ],
      "text/plain": [
       "      tconst titleType                                       primaryTitle  \\\n",
       "0  tt0035423     movie                                     Kate & Leopold   \n",
       "1  tt0062336     movie  The Tango of the Widower and Its Distorting Mi...   \n",
       "2  tt0069049     movie                         The Other Side of the Wind   \n",
       "3  tt0088751     movie                                  The Naked Monster   \n",
       "4  tt0096056     movie                               Crime and Punishment   \n",
       "\n",
       "                               originalTitle  isAdult  startYear  \\\n",
       "0                             Kate & Leopold        0       2001   \n",
       "1  El Tango del Viudo y Su Espejo Deformante        0       2020   \n",
       "2                 The Other Side of the Wind        0       2018   \n",
       "3                          The Naked Monster        0       2005   \n",
       "4                       Crime and Punishment        0       2002   \n",
       "\n",
       "   runtimeMinutes                  genres  \n",
       "0             118  Comedy,Fantasy,Romance  \n",
       "1              70                   Drama  \n",
       "2             122                   Drama  \n",
       "3             100    Comedy,Horror,Sci-Fi  \n",
       "4             126                   Drama  "
      ]
     },
     "execution_count": 22,
     "metadata": {},
     "output_type": "execute_result"
    }
   ],
   "source": [
    "basics = pd.read_csv('data/title_basics.csv.gz')\n",
    "basics.head()"
   ]
  },
  {
   "cell_type": "code",
   "execution_count": 34,
   "id": "8cecb3d8",
   "metadata": {},
   "outputs": [
    {
     "data": {
      "application/json": {
       "ascii": false,
       "bar_format": null,
       "colour": null,
       "elapsed": 0.011334896087646484,
       "initial": 0,
       "n": 0,
       "ncols": null,
       "nrows": 24,
       "postfix": null,
       "prefix": "YEARS",
       "rate": null,
       "total": 1,
       "unit": "it",
       "unit_divisor": 1000,
       "unit_scale": false
      },
      "application/vnd.jupyter.widget-view+json": {
       "model_id": "4cbfb0a5ecf34459bde2df187fabc114",
       "version_major": 2,
       "version_minor": 0
      },
      "text/plain": [
       "YEARS:   0%|          | 0/1 [00:00<?, ?it/s]"
      ]
     },
     "metadata": {},
     "output_type": "display_data"
    },
    {
     "data": {
      "application/json": {
       "ascii": false,
       "bar_format": null,
       "colour": null,
       "elapsed": 0.007261991500854492,
       "initial": 0,
       "n": 0,
       "ncols": null,
       "nrows": 24,
       "postfix": null,
       "prefix": "Movies from 2011",
       "rate": null,
       "total": 4158,
       "unit": "it",
       "unit_divisor": 1000,
       "unit_scale": false
      },
      "application/vnd.jupyter.widget-view+json": {
       "model_id": "91738118fa274e4aad73fb51b198f1b8",
       "version_major": 2,
       "version_minor": 0
      },
      "text/plain": [
       "Movies from 2011:   0%|          | 0/4158 [00:00<?, ?it/s]"
      ]
     },
     "metadata": {},
     "output_type": "display_data"
    },
    {
     "name": "stdout",
     "output_type": "stream",
     "text": [
      "- Total errors: 1233\n"
     ]
    }
   ],
   "source": [
    "YEARS_TO_GET = [2020,2011]\n",
    "errors = [ ]\n",
    "FOLDER = \"Data/\"\n",
    "\n",
    "for YEAR in tqdm_notebook(YEARS_TO_GET, desc='YEARS', position=0):\n",
    "    JSON_FILE = f'{FOLDER}tmdb_api_results_{YEAR}.json'\n",
    "    file_exists = os.path.isfile(JSON_FILE)\n",
    "    \n",
    "    if file_exists == False:\n",
    "        with open(JSON_FILE,'w') as f:\n",
    "            json.dump([{'imdb_id':0}],f)\n",
    "    df = basics.loc[ basics['startYear']==YEAR].copy()\n",
    "    movie_ids = df['tconst'].copy()     \n",
    "    \n",
    "    previous_df = pd.read_json(JSON_FILE)\n",
    "    movie_ids_to_get = movie_ids[~movie_ids.isin(previous_df['imdb_id'])]\n",
    "    \n",
    "    for movie_id in tqdm_notebook(movie_ids_to_get,\n",
    "                                  desc=f'Movies from {YEAR}',\n",
    "                                  position=1,\n",
    "                                  leave=True):\n",
    "        try:\n",
    "            temp = get_movie_with_rating(movie_id)  \n",
    "            write_json(temp,JSON_FILE)\n",
    "            time.sleep(0.02)\n",
    "            \n",
    "        except Exception as e:\n",
    "            errors.append([movie_id, e])\n",
    "            \n",
    "    final_year_df = pd.read_json(JSON_FILE)\n",
    "    final_year_df.to_csv(f\"{FOLDER}final_tmdb_data_{YEAR}.csv.gz\", compression=\"gzip\", index=False)\n",
    "\n",
    "print(f\"- Total errors: {len(errors)}\")"
   ]
  },
  {
   "cell_type": "markdown",
   "id": "46fac26c",
   "metadata": {},
   "source": [
    "# Questions to Answer"
   ]
  },
  {
   "cell_type": "code",
   "execution_count": 6,
   "id": "993b5780",
   "metadata": {
    "scrolled": true
   },
   "outputs": [
    {
     "data": {
      "text/html": [
       "<div>\n",
       "<style scoped>\n",
       "    .dataframe tbody tr th:only-of-type {\n",
       "        vertical-align: middle;\n",
       "    }\n",
       "\n",
       "    .dataframe tbody tr th {\n",
       "        vertical-align: top;\n",
       "    }\n",
       "\n",
       "    .dataframe thead th {\n",
       "        text-align: right;\n",
       "    }\n",
       "</style>\n",
       "<table border=\"1\" class=\"dataframe\">\n",
       "  <thead>\n",
       "    <tr style=\"text-align: right;\">\n",
       "      <th></th>\n",
       "      <th>imdb_id</th>\n",
       "      <th>adult</th>\n",
       "      <th>backdrop_path</th>\n",
       "      <th>belongs_to_collection</th>\n",
       "      <th>budget</th>\n",
       "      <th>genres</th>\n",
       "      <th>homepage</th>\n",
       "      <th>id</th>\n",
       "      <th>original_language</th>\n",
       "      <th>original_title</th>\n",
       "      <th>...</th>\n",
       "      <th>revenue</th>\n",
       "      <th>runtime</th>\n",
       "      <th>spoken_languages</th>\n",
       "      <th>status</th>\n",
       "      <th>tagline</th>\n",
       "      <th>title</th>\n",
       "      <th>video</th>\n",
       "      <th>vote_average</th>\n",
       "      <th>vote_count</th>\n",
       "      <th>certification</th>\n",
       "    </tr>\n",
       "  </thead>\n",
       "  <tbody>\n",
       "    <tr>\n",
       "      <th>0</th>\n",
       "      <td>tt0113026</td>\n",
       "      <td>0.0</td>\n",
       "      <td>/vMFs7nw6P0bIV1jDsQpxAieAVnH.jpg</td>\n",
       "      <td>NaN</td>\n",
       "      <td>10000000.0</td>\n",
       "      <td>[{'id': 35, 'name': 'Comedy'}, {'id': 10402, '...</td>\n",
       "      <td>NaN</td>\n",
       "      <td>62127.0</td>\n",
       "      <td>en</td>\n",
       "      <td>The Fantasticks</td>\n",
       "      <td>...</td>\n",
       "      <td>0.0</td>\n",
       "      <td>86.0</td>\n",
       "      <td>[{'english_name': 'English', 'iso_639_1': 'en'...</td>\n",
       "      <td>Released</td>\n",
       "      <td>Try to remember the first time magic happened</td>\n",
       "      <td>The Fantasticks</td>\n",
       "      <td>0.0</td>\n",
       "      <td>5.500</td>\n",
       "      <td>22.0</td>\n",
       "      <td>NaN</td>\n",
       "    </tr>\n",
       "    <tr>\n",
       "      <th>1</th>\n",
       "      <td>tt0118694</td>\n",
       "      <td>0.0</td>\n",
       "      <td>/n4GJFGzsc7NinI1VeGDXIcQjtU2.jpg</td>\n",
       "      <td>NaN</td>\n",
       "      <td>150000.0</td>\n",
       "      <td>[{'id': 18, 'name': 'Drama'}, {'id': 10749, 'n...</td>\n",
       "      <td>http://www.wkw-inthemoodforlove.com/</td>\n",
       "      <td>843.0</td>\n",
       "      <td>cn</td>\n",
       "      <td>花樣年華</td>\n",
       "      <td>...</td>\n",
       "      <td>12854953.0</td>\n",
       "      <td>99.0</td>\n",
       "      <td>[{'english_name': 'Cantonese', 'iso_639_1': 'c...</td>\n",
       "      <td>Released</td>\n",
       "      <td>Feel the heat, keep the feeling burning, let t...</td>\n",
       "      <td>In the Mood for Love</td>\n",
       "      <td>0.0</td>\n",
       "      <td>8.104</td>\n",
       "      <td>2027.0</td>\n",
       "      <td>PG</td>\n",
       "    </tr>\n",
       "    <tr>\n",
       "      <th>2</th>\n",
       "      <td>tt0119273</td>\n",
       "      <td>0.0</td>\n",
       "      <td>/f5C03doOWiauu37bToKXtpgP5bS.jpg</td>\n",
       "      <td>{'id': 141086, 'name': 'Heavy Metal Collection...</td>\n",
       "      <td>15000000.0</td>\n",
       "      <td>[{'id': 28, 'name': 'Action'}, {'id': 12, 'nam...</td>\n",
       "      <td>NaN</td>\n",
       "      <td>16225.0</td>\n",
       "      <td>en</td>\n",
       "      <td>Heavy Metal 2000</td>\n",
       "      <td>...</td>\n",
       "      <td>0.0</td>\n",
       "      <td>88.0</td>\n",
       "      <td>[{'english_name': 'English', 'iso_639_1': 'en'...</td>\n",
       "      <td>Released</td>\n",
       "      <td>not to survive the fight in the external world...</td>\n",
       "      <td>Heavy Metal 2000</td>\n",
       "      <td>0.0</td>\n",
       "      <td>6.088</td>\n",
       "      <td>164.0</td>\n",
       "      <td>R</td>\n",
       "    </tr>\n",
       "  </tbody>\n",
       "</table>\n",
       "<p>3 rows × 26 columns</p>\n",
       "</div>"
      ],
      "text/plain": [
       "     imdb_id  adult                     backdrop_path  \\\n",
       "0  tt0113026    0.0  /vMFs7nw6P0bIV1jDsQpxAieAVnH.jpg   \n",
       "1  tt0118694    0.0  /n4GJFGzsc7NinI1VeGDXIcQjtU2.jpg   \n",
       "2  tt0119273    0.0  /f5C03doOWiauu37bToKXtpgP5bS.jpg   \n",
       "\n",
       "                               belongs_to_collection      budget  \\\n",
       "0                                                NaN  10000000.0   \n",
       "1                                                NaN    150000.0   \n",
       "2  {'id': 141086, 'name': 'Heavy Metal Collection...  15000000.0   \n",
       "\n",
       "                                              genres  \\\n",
       "0  [{'id': 35, 'name': 'Comedy'}, {'id': 10402, '...   \n",
       "1  [{'id': 18, 'name': 'Drama'}, {'id': 10749, 'n...   \n",
       "2  [{'id': 28, 'name': 'Action'}, {'id': 12, 'nam...   \n",
       "\n",
       "                               homepage       id original_language  \\\n",
       "0                                   NaN  62127.0                en   \n",
       "1  http://www.wkw-inthemoodforlove.com/    843.0                cn   \n",
       "2                                   NaN  16225.0                en   \n",
       "\n",
       "     original_title  ...     revenue  runtime  \\\n",
       "0   The Fantasticks  ...         0.0     86.0   \n",
       "1              花樣年華  ...  12854953.0     99.0   \n",
       "2  Heavy Metal 2000  ...         0.0     88.0   \n",
       "\n",
       "                                    spoken_languages    status  \\\n",
       "0  [{'english_name': 'English', 'iso_639_1': 'en'...  Released   \n",
       "1  [{'english_name': 'Cantonese', 'iso_639_1': 'c...  Released   \n",
       "2  [{'english_name': 'English', 'iso_639_1': 'en'...  Released   \n",
       "\n",
       "                                             tagline                 title  \\\n",
       "0      Try to remember the first time magic happened       The Fantasticks   \n",
       "1  Feel the heat, keep the feeling burning, let t...  In the Mood for Love   \n",
       "2  not to survive the fight in the external world...      Heavy Metal 2000   \n",
       "\n",
       "   video  vote_average vote_count certification  \n",
       "0    0.0         5.500       22.0           NaN  \n",
       "1    0.0         8.104     2027.0            PG  \n",
       "2    0.0         6.088      164.0             R  \n",
       "\n",
       "[3 rows x 26 columns]"
      ]
     },
     "execution_count": 6,
     "metadata": {},
     "output_type": "execute_result"
    }
   ],
   "source": [
    "filename = 'Data/tmdb_results_combined.csv.gz'\n",
    "df = pd.read_csv(filename)\n",
    "df.head(3)"
   ]
  },
  {
   "cell_type": "code",
   "execution_count": 9,
   "id": "0c37fa5f",
   "metadata": {
    "scrolled": true
   },
   "outputs": [
    {
     "name": "stdout",
     "output_type": "stream",
     "text": [
      "<class 'pandas.core.frame.DataFrame'>\n",
      "Int64Index: 625 entries, 0 to 624\n",
      "Data columns (total 26 columns):\n",
      " #   Column                 Non-Null Count  Dtype  \n",
      "---  ------                 --------------  -----  \n",
      " 0   imdb_id                625 non-null    object \n",
      " 1   adult                  625 non-null    float64\n",
      " 2   backdrop_path          524 non-null    object \n",
      " 3   belongs_to_collection  103 non-null    object \n",
      " 4   budget                 625 non-null    float64\n",
      " 5   genres                 625 non-null    object \n",
      " 6   homepage               80 non-null     object \n",
      " 7   id                     625 non-null    float64\n",
      " 8   original_language      625 non-null    object \n",
      " 9   original_title         625 non-null    object \n",
      " 10  overview               622 non-null    object \n",
      " 11  popularity             625 non-null    float64\n",
      " 12  poster_path            603 non-null    object \n",
      " 13  production_companies   625 non-null    object \n",
      " 14  production_countries   625 non-null    object \n",
      " 15  release_date           625 non-null    object \n",
      " 16  revenue                625 non-null    float64\n",
      " 17  runtime                625 non-null    float64\n",
      " 18  spoken_languages       625 non-null    object \n",
      " 19  status                 625 non-null    object \n",
      " 20  tagline                481 non-null    object \n",
      " 21  title                  625 non-null    object \n",
      " 22  video                  625 non-null    float64\n",
      " 23  vote_average           625 non-null    float64\n",
      " 24  vote_count             625 non-null    float64\n",
      " 25  certification          425 non-null    object \n",
      "dtypes: float64(9), object(17)\n",
      "memory usage: 131.8+ KB\n"
     ]
    }
   ],
   "source": [
    "dfc = df[(df['budget']>0)|(df['revenue']>0)]\n",
    "dfc.info()"
   ]
  },
  {
   "cell_type": "code",
   "execution_count": 39,
   "id": "f8153aa1",
   "metadata": {},
   "outputs": [],
   "source": [
    "dfc.dropna(subset = ['certification'],inplace = True)"
   ]
  },
  {
   "cell_type": "markdown",
   "id": "d4e625ee",
   "metadata": {},
   "source": [
    "## 1. Does the MPAA rating of a movie (G/PG/PG-13/R) affect how much revenue the movie generates?"
   ]
  },
  {
   "cell_type": "markdown",
   "id": "baa35631",
   "metadata": {},
   "source": [
    "- Null Hypothesis: Movie certification does not affect the amount of revenue is made.\n",
    "- Alt. Hypothesis: Movie certification has an affect on the amount of revenue made.\n",
    "- Test: ANOVA Testing, has more than two groups"
   ]
  },
  {
   "cell_type": "code",
   "execution_count": 40,
   "id": "fbfca9af",
   "metadata": {},
   "outputs": [
    {
     "data": {
      "text/plain": [
       "dict_keys(['PG', 'R', 'G', 'PG-13', 'NR'])"
      ]
     },
     "execution_count": 40,
     "metadata": {},
     "output_type": "execute_result"
    }
   ],
   "source": [
    "groups = {}\n",
    "\n",
    "for i in dfc['certification'].unique():\n",
    "    data = dfc.loc[dfc['certification']==i,'revenue'].copy()\n",
    "    \n",
    "    groups[i] = data\n",
    "\n",
    "groups.keys()"
   ]
  },
  {
   "cell_type": "markdown",
   "id": "b39dbe3f",
   "metadata": {},
   "source": [
    "### Visualization"
   ]
  },
  {
   "cell_type": "code",
   "execution_count": 41,
   "id": "d293bb80",
   "metadata": {},
   "outputs": [
    {
     "data": {
      "image/png": "[encoded data removed]",
      "text/plain": [
       "<Figure size 640x480 with 1 Axes>"
      ]
     },
     "metadata": {},
     "output_type": "display_data"
    }
   ],
   "source": [
    "sns.barplot(data=dfc, x='certification',y='revenue');"
   ]
  },
  {
   "cell_type": "markdown",
   "id": "13743c1b",
   "metadata": {},
   "source": [
    "### Test for Outliers"
   ]
  },
  {
   "cell_type": "code",
   "execution_count": 42,
   "id": "b8b1e5b7",
   "metadata": {},
   "outputs": [
    {
     "data": {
      "text/plain": [
       "{'PG': {1}, 'R': {5}, 'G': {1}, 'PG-13': {2}, 'NR': {0}}"
      ]
     },
     "execution_count": 42,
     "metadata": {},
     "output_type": "execute_result"
    }
   ],
   "source": [
    "outlier_results = {}\n",
    "for i, data in groups.items():\n",
    "    zscores = stats.zscore(groups[i])\n",
    "    outliers = abs(zscores)>3\n",
    "    outlier_results[i] = {np.sum(outliers)}\n",
    "    \n",
    "outlier_results"
   ]
  },
  {
   "cell_type": "code",
   "execution_count": 43,
   "id": "8875a72c",
   "metadata": {},
   "outputs": [],
   "source": [
    "#All of the groups have outliers\n",
    "\n",
    "for i,data in groups.items():\n",
    "    groups[i] = groups[i][(np.abs(stats.zscore(groups[i])) < 3)]"
   ]
  },
  {
   "cell_type": "markdown",
   "id": "a626bc00",
   "metadata": {},
   "source": [
    "### Test for Normality"
   ]
  },
  {
   "cell_type": "code",
   "execution_count": 44,
   "id": "4ee0b09c",
   "metadata": {},
   "outputs": [
    {
     "name": "stderr",
     "output_type": "stream",
     "text": [
      "/opt/homebrew/Caskroom/miniforge/base/envs/dojo-env/lib/python3.8/site-packages/scipy/stats/_stats_py.py:1477: UserWarning: kurtosistest only valid for n>=20 ... continuing anyway, n=13\n",
      "  warnings.warn(\"kurtosistest only valid for n>=20 ... continuing \"\n",
      "/opt/homebrew/Caskroom/miniforge/base/envs/dojo-env/lib/python3.8/site-packages/scipy/stats/_stats_py.py:1477: UserWarning: kurtosistest only valid for n>=20 ... continuing anyway, n=17\n",
      "  warnings.warn(\"kurtosistest only valid for n>=20 ... continuing \"\n"
     ]
    },
    {
     "data": {
      "text/html": [
       "<div>\n",
       "<style scoped>\n",
       "    .dataframe tbody tr th:only-of-type {\n",
       "        vertical-align: middle;\n",
       "    }\n",
       "\n",
       "    .dataframe tbody tr th {\n",
       "        vertical-align: top;\n",
       "    }\n",
       "\n",
       "    .dataframe thead th {\n",
       "        text-align: right;\n",
       "    }\n",
       "</style>\n",
       "<table border=\"1\" class=\"dataframe\">\n",
       "  <thead>\n",
       "    <tr style=\"text-align: right;\">\n",
       "      <th></th>\n",
       "      <th>n</th>\n",
       "      <th>p</th>\n",
       "      <th>test stat</th>\n",
       "    </tr>\n",
       "  </thead>\n",
       "  <tbody>\n",
       "    <tr>\n",
       "      <th>PG</th>\n",
       "      <td>35.0</td>\n",
       "      <td>4.377549e-06</td>\n",
       "      <td>24.678043</td>\n",
       "    </tr>\n",
       "    <tr>\n",
       "      <th>R</th>\n",
       "      <td>223.0</td>\n",
       "      <td>6.248450e-25</td>\n",
       "      <td>111.464588</td>\n",
       "    </tr>\n",
       "    <tr>\n",
       "      <th>G</th>\n",
       "      <td>13.0</td>\n",
       "      <td>3.648793e-01</td>\n",
       "      <td>2.016377</td>\n",
       "    </tr>\n",
       "    <tr>\n",
       "      <th>PG-13</th>\n",
       "      <td>128.0</td>\n",
       "      <td>1.320751e-10</td>\n",
       "      <td>45.495300</td>\n",
       "    </tr>\n",
       "    <tr>\n",
       "      <th>NR</th>\n",
       "      <td>17.0</td>\n",
       "      <td>7.935049e-03</td>\n",
       "      <td>9.672931</td>\n",
       "    </tr>\n",
       "  </tbody>\n",
       "</table>\n",
       "</div>"
      ],
      "text/plain": [
       "           n             p   test stat\n",
       "PG      35.0  4.377549e-06   24.678043\n",
       "R      223.0  6.248450e-25  111.464588\n",
       "G       13.0  3.648793e-01    2.016377\n",
       "PG-13  128.0  1.320751e-10   45.495300\n",
       "NR      17.0  7.935049e-03    9.672931"
      ]
     },
     "execution_count": 44,
     "metadata": {},
     "output_type": "execute_result"
    }
   ],
   "source": [
    "norm_results = {}\n",
    "for i, data in groups.items():\n",
    "    stat, p = stats.normaltest(data)\n",
    "    norm_results[i] = {'n': len(data),\n",
    "                             'p':p,\n",
    "                             'test stat':stat,}\n",
    "norm_results_df = pd.DataFrame(norm_results).T\n",
    "norm_results_df"
   ]
  },
  {
   "cell_type": "code",
   "execution_count": 45,
   "id": "372b7cbe",
   "metadata": {},
   "outputs": [
    {
     "data": {
      "text/html": [
       "<div>\n",
       "<style scoped>\n",
       "    .dataframe tbody tr th:only-of-type {\n",
       "        vertical-align: middle;\n",
       "    }\n",
       "\n",
       "    .dataframe tbody tr th {\n",
       "        vertical-align: top;\n",
       "    }\n",
       "\n",
       "    .dataframe thead th {\n",
       "        text-align: right;\n",
       "    }\n",
       "</style>\n",
       "<table border=\"1\" class=\"dataframe\">\n",
       "  <thead>\n",
       "    <tr style=\"text-align: right;\">\n",
       "      <th></th>\n",
       "      <th>n</th>\n",
       "      <th>p</th>\n",
       "      <th>test stat</th>\n",
       "      <th>sig</th>\n",
       "    </tr>\n",
       "  </thead>\n",
       "  <tbody>\n",
       "    <tr>\n",
       "      <th>PG</th>\n",
       "      <td>35.0</td>\n",
       "      <td>4.377549e-06</td>\n",
       "      <td>24.678043</td>\n",
       "      <td>True</td>\n",
       "    </tr>\n",
       "    <tr>\n",
       "      <th>R</th>\n",
       "      <td>223.0</td>\n",
       "      <td>6.248450e-25</td>\n",
       "      <td>111.464588</td>\n",
       "      <td>True</td>\n",
       "    </tr>\n",
       "    <tr>\n",
       "      <th>G</th>\n",
       "      <td>13.0</td>\n",
       "      <td>3.648793e-01</td>\n",
       "      <td>2.016377</td>\n",
       "      <td>False</td>\n",
       "    </tr>\n",
       "    <tr>\n",
       "      <th>PG-13</th>\n",
       "      <td>128.0</td>\n",
       "      <td>1.320751e-10</td>\n",
       "      <td>45.495300</td>\n",
       "      <td>True</td>\n",
       "    </tr>\n",
       "    <tr>\n",
       "      <th>NR</th>\n",
       "      <td>17.0</td>\n",
       "      <td>7.935049e-03</td>\n",
       "      <td>9.672931</td>\n",
       "      <td>True</td>\n",
       "    </tr>\n",
       "  </tbody>\n",
       "</table>\n",
       "</div>"
      ],
      "text/plain": [
       "           n             p   test stat    sig\n",
       "PG      35.0  4.377549e-06   24.678043   True\n",
       "R      223.0  6.248450e-25  111.464588   True\n",
       "G       13.0  3.648793e-01    2.016377  False\n",
       "PG-13  128.0  1.320751e-10   45.495300   True\n",
       "NR      17.0  7.935049e-03    9.672931   True"
      ]
     },
     "execution_count": 45,
     "metadata": {},
     "output_type": "execute_result"
    }
   ],
   "source": [
    "norm_results_df['sig'] = norm_results_df['p'] < .05 \n",
    "norm_results_df\n",
    "#Each group, except for G rated movies, did not have a normal distribution but the sample size is big enough"
   ]
  },
  {
   "cell_type": "markdown",
   "id": "a8fefb1f",
   "metadata": {},
   "source": [
    "### Test for Equal Variance"
   ]
  },
  {
   "cell_type": "code",
   "execution_count": 46,
   "id": "a6968daf",
   "metadata": {},
   "outputs": [
    {
     "data": {
      "text/plain": [
       "LeveneResult(statistic=13.107279572526956, pvalue=4.673188465733158e-10)"
      ]
     },
     "execution_count": 46,
     "metadata": {},
     "output_type": "execute_result"
    }
   ],
   "source": [
    "stats.levene( *groups.values())\n",
    "#Failed the assumption of equal variance, need to include equal_var=False"
   ]
  },
  {
   "cell_type": "markdown",
   "id": "311e6bab",
   "metadata": {},
   "source": [
    "### Perform ANOVA Testing"
   ]
  },
  {
   "cell_type": "code",
   "execution_count": 47,
   "id": "0e7ac693",
   "metadata": {},
   "outputs": [
    {
     "data": {
      "text/plain": [
       "F_onewayResult(statistic=16.794302386147013, pvalue=9.209039653012378e-13)"
      ]
     },
     "execution_count": 47,
     "metadata": {},
     "output_type": "execute_result"
    }
   ],
   "source": [
    "result = stats.f_oneway( *groups.values())\n",
    "result\n",
    "#Failed to reject the Null Hypothesis and accepted the Alt. Hypothesis."
   ]
  },
  {
   "cell_type": "code",
   "execution_count": 49,
   "id": "4dfcbcf3",
   "metadata": {},
   "outputs": [
    {
     "data": {
      "text/html": [
       "<table class=\"simpletable\">\n",
       "<caption>Multiple Comparison of Means - Tukey HSD, FWER=0.05</caption>\n",
       "<tr>\n",
       "  <th>group1</th> <th>group2</th>    <th>meandiff</th>      <th>p-adj</th>      <th>lower</th>           <th>upper</th>     <th>reject</th>\n",
       "</tr>\n",
       "<tr>\n",
       "     <td>G</td>     <td>NR</td>   <td>-114858656.0462</td> <td>0.0267</td> <td>-221134249.2123</td>  <td>-8583062.8801</td>  <td>True</td> \n",
       "</tr>\n",
       "<tr>\n",
       "     <td>G</td>     <td>PG</td>   <td>-14527879.9841</td>  <td>0.9929</td> <td>-107277236.0639</td>  <td>78221476.0956</td>  <td>False</td>\n",
       "</tr>\n",
       "<tr>\n",
       "     <td>G</td>    <td>PG-13</td> <td>-23719722.7593</td>   <td>0.935</td> <td>-106549543.465</td>   <td>59110097.9463</td>  <td>False</td>\n",
       "</tr>\n",
       "<tr>\n",
       "     <td>G</td>      <td>R</td>    <td>-90393342.161</td>  <td>0.0202</td> <td>-171474027.4892</td>  <td>-9312656.8328</td>  <td>True</td> \n",
       "</tr>\n",
       "<tr>\n",
       "    <td>NR</td>     <td>PG</td>   <td>100330776.0621</td>   <td>0.014</td>  <td>13673827.354</td>   <td>186987724.7701</td>  <td>True</td> \n",
       "</tr>\n",
       "<tr>\n",
       "    <td>NR</td>    <td>PG-13</td>  <td>91138933.2869</td>  <td>0.0096</td>  <td>15193144.0401</td>  <td>167084722.5336</td>  <td>True</td> \n",
       "</tr>\n",
       "<tr>\n",
       "    <td>NR</td>      <td>R</td>    <td>24465313.8852</td>  <td>0.8948</td> <td>-49568875.7806</td>   <td>98499503.551</td>   <td>False</td>\n",
       "</tr>\n",
       "<tr>\n",
       "    <td>PG</td>    <td>PG-13</td>  <td>-9191842.7752</td>  <td>0.9912</td> <td>-64650874.9946</td>   <td>46267189.4442</td>  <td>False</td>\n",
       "</tr>\n",
       "<tr>\n",
       "    <td>PG</td>      <td>R</td>   <td>-75865462.1769</td>  <td>0.0009</td> <td>-128676470.4032</td> <td>-23054453.9506</td>  <td>True</td> \n",
       "</tr>\n",
       "<tr>\n",
       "   <td>PG-13</td>    <td>R</td>   <td>-66673619.4017</td>    <td>0.0</td>  <td>-99036232.6275</td>  <td>-34311006.1759</td>  <td>True</td> \n",
       "</tr>\n",
       "</table>"
      ],
      "text/plain": [
       "<class 'statsmodels.iolib.table.SimpleTable'>"
      ]
     },
     "execution_count": 49,
     "metadata": {},
     "output_type": "execute_result"
    }
   ],
   "source": [
    "from statsmodels.stats.multicomp import pairwise_tukeyhsd\n",
    "\n",
    "values = dfc['revenue']\n",
    "labels = dfc['certification']\n",
    "\n",
    "tukeys_results = pairwise_tukeyhsd(values,labels)\n",
    "tukeys_results.summary()"
   ]
  },
  {
   "cell_type": "markdown",
   "id": "14b0eec3",
   "metadata": {},
   "source": [
    "- In conclusion, we failed to reject the Null Hypothesis and accepted the Alt. Hypothesis.\n",
    "- R Rated movies in comparison to G, PG, and PG-13 had quite a big affect and based on the visualization above it is clear that R-rated movies had lower revenue."
   ]
  },
  {
   "cell_type": "markdown",
   "id": "5637046e",
   "metadata": {},
   "source": [
    "## 2. Do movies that are  2 hours or longer earn more revenue than movies that are less than 2 hours long."
   ]
  },
  {
   "cell_type": "markdown",
   "id": "bb9331bd",
   "metadata": {},
   "source": [
    "- Null Hypothesis: Movie length does not affect the amount of revenue made.\n",
    "- Alt. Hypothesis: The length of the movie certification has an affect on the amount of revenue made.\n",
    "- Test: 2 sample T-test, long and short movie"
   ]
  },
  {
   "cell_type": "code",
   "execution_count": 63,
   "id": "3404848b",
   "metadata": {},
   "outputs": [],
   "source": [
    "dfc['running'] = dfc['runtime']>=120\n",
    "long_rev = dfc.loc[dfc['runtime']>=120,'revenue']\n",
    "short_rev = dfc.loc[dfc['runtime']<120,'revenue']"
   ]
  },
  {
   "cell_type": "code",
   "execution_count": 69,
   "id": "3ce0905c",
   "metadata": {},
   "outputs": [
    {
     "data": {
      "text/plain": [
       "False    345\n",
       "True      80\n",
       "Name: running, dtype: int64"
      ]
     },
     "execution_count": 69,
     "metadata": {},
     "output_type": "execute_result"
    }
   ],
   "source": [
    "dfc['running'].value_counts()"
   ]
  },
  {
   "cell_type": "markdown",
   "id": "0b8acd41",
   "metadata": {},
   "source": [
    "### Visualization"
   ]
  },
  {
   "cell_type": "code",
   "execution_count": 79,
   "id": "4390e051",
   "metadata": {
    "scrolled": false
   },
   "outputs": [
    {
     "data": {
      "image/png": "[encoded data removed]",
      "text/plain": [
       "<Figure size 1000x500 with 2 Axes>"
      ]
     },
     "metadata": {},
     "output_type": "display_data"
    }
   ],
   "source": [
    "movie_palette={True:'dodgerblue', False:'orange'}\n",
    "\n",
    "## Visualizing Sample means\n",
    "fig, (ax,ax_bar) = plt.subplots(figsize= (10,5), ncols=2, \n",
    "                                constrained_layout=True,\n",
    "                                gridspec_kw={'width_ratios':[0.8,0.2]})\n",
    "\n",
    "\n",
    "# Histogram\n",
    "ax = sns.histplot(data=dfc[['running','revenue']], x='revenue',fill=True,hue='running',kde=True,\n",
    "                  stat='density',common_norm=False,ax=ax,\n",
    "                  palette=movie_palette)\n",
    " \n",
    "ax.axvline(np.mean(long_rev), ls='--',lw=3, \n",
    "           label=f\"Long Movie (n={len(long_rev)}, Mean={np.mean(long_rev):.2f})\",color=movie_palette[True])\n",
    "\n",
    "ax.axvline(np.mean(short_rev), ls='--', lw=3, \n",
    "           label=f\"Short Movie (n={len(short_rev)}, Mean={np.mean(short_rev):.2f})\",color=movie_palette[False])\n",
    "ax.set_xlim([0, 500000000])\n",
    "ax.legend(prop={\"size\":14}, loc='upper right')\n",
    "\n",
    "## Barplot\n",
    "sns.barplot(data=dfc[['running','revenue']], x='running',y='revenue',ax = ax_bar,palette=movie_palette)\n",
    "fig.suptitle('Comparison of Revenue by Movie length, 2hours',fontsize='xx-large');"
   ]
  },
  {
   "cell_type": "markdown",
   "id": "f1ec562d",
   "metadata": {},
   "source": [
    "### Test for Outliers"
   ]
  },
  {
   "cell_type": "code",
   "execution_count": 80,
   "id": "65c1f43d",
   "metadata": {},
   "outputs": [
    {
     "data": {
      "text/plain": [
       "2"
      ]
     },
     "execution_count": 80,
     "metadata": {},
     "output_type": "execute_result"
    }
   ],
   "source": [
    "zscores_s = stats.zscore(long_rev)\n",
    "outliers_s = abs(zscores_s)>3\n",
    "np.sum(outliers_s)"
   ]
  },
  {
   "cell_type": "code",
   "execution_count": 81,
   "id": "ebe0aa5f",
   "metadata": {},
   "outputs": [],
   "source": [
    "long_rev = long_rev[(np.abs(stats.zscore(long_rev)) < 3)]"
   ]
  },
  {
   "cell_type": "code",
   "execution_count": 82,
   "id": "4bf3a25e",
   "metadata": {},
   "outputs": [
    {
     "data": {
      "text/plain": [
       "9"
      ]
     },
     "execution_count": 82,
     "metadata": {},
     "output_type": "execute_result"
    }
   ],
   "source": [
    "zscores_s = stats.zscore(short_rev)\n",
    "outliers_s = abs(zscores_s)>3\n",
    "np.sum(outliers_s)"
   ]
  },
  {
   "cell_type": "code",
   "execution_count": 83,
   "id": "da27a702",
   "metadata": {},
   "outputs": [],
   "source": [
    "short_rev = short_rev[(np.abs(stats.zscore(short_rev)) < 3)]"
   ]
  },
  {
   "cell_type": "markdown",
   "id": "f194868b",
   "metadata": {},
   "source": [
    "### Test for Normality"
   ]
  },
  {
   "cell_type": "code",
   "execution_count": 84,
   "id": "2a0dc8c9",
   "metadata": {},
   "outputs": [
    {
     "data": {
      "text/plain": [
       "NormaltestResult(statistic=27.621635593469293, pvalue=1.0047037894778373e-06)"
      ]
     },
     "execution_count": 84,
     "metadata": {},
     "output_type": "execute_result"
    }
   ],
   "source": [
    "stats.normaltest(long_rev)\n",
    "#Long Movie Group is not normal, but the sample size is greater than 15, so will proceed"
   ]
  },
  {
   "cell_type": "code",
   "execution_count": 85,
   "id": "dd4348a4",
   "metadata": {},
   "outputs": [
    {
     "data": {
      "text/plain": [
       "NormaltestResult(statistic=163.7973772877588, pvalue=2.703033616371091e-36)"
      ]
     },
     "execution_count": 85,
     "metadata": {},
     "output_type": "execute_result"
    }
   ],
   "source": [
    "stats.normaltest(short_rev)\n",
    "#Short Movie Group is not normal, but the sample size is greater than 15, so will proceed"
   ]
  },
  {
   "cell_type": "markdown",
   "id": "74891e1e",
   "metadata": {},
   "source": [
    "### Test for Equal Variance"
   ]
  },
  {
   "cell_type": "code",
   "execution_count": 86,
   "id": "e024f19f",
   "metadata": {},
   "outputs": [
    {
     "data": {
      "text/plain": [
       "LeveneResult(statistic=42.56752584579897, pvalue=2.0064176493952136e-10)"
      ]
     },
     "execution_count": 86,
     "metadata": {},
     "output_type": "execute_result"
    }
   ],
   "source": [
    "stats.levene(long_rev,short_rev)\n",
    "#Failed the assumption of equal variance, need to include equal_var=False"
   ]
  },
  {
   "cell_type": "markdown",
   "id": "aa0a7a76",
   "metadata": {},
   "source": [
    "### Perform T-Test"
   ]
  },
  {
   "cell_type": "code",
   "execution_count": 87,
   "id": "de8211a6",
   "metadata": {},
   "outputs": [
    {
     "data": {
      "text/plain": [
       "True"
      ]
     },
     "execution_count": 87,
     "metadata": {},
     "output_type": "execute_result"
    }
   ],
   "source": [
    "result = stats.ttest_ind(long_rev,short_rev,equal_var = False)\n",
    "result.pvalue < .05\n",
    "#Fail to reject Null, Accept Alt"
   ]
  },
  {
   "cell_type": "markdown",
   "id": "18d6f91a",
   "metadata": {},
   "source": [
    "- In conclusion, we failed to reject the Null Hypothesis and accepted the Alt. Hypothesis.\n",
    "- Movie length does affect the revenue made. Movies that are 2hrs or longer made greater revenue"
   ]
  },
  {
   "cell_type": "markdown",
   "id": "054f980a",
   "metadata": {},
   "source": [
    "## 3. Are budgets greater for movies made in 2010 than in 2000."
   ]
  },
  {
   "cell_type": "markdown",
   "id": "41de538b",
   "metadata": {},
   "source": [
    "- Null Hypothesis: Movie budgets have remained the same over the years.\n",
    "- Alt. Hypothesis: Movie budgets have increased in the newer years\n",
    "- Test: 2 sample T-test, old and new movie"
   ]
  },
  {
   "cell_type": "code",
   "execution_count": 88,
   "id": "39656a0a",
   "metadata": {
    "scrolled": false
   },
   "outputs": [
    {
     "name": "stdout",
     "output_type": "stream",
     "text": [
      "<class 'pandas.core.frame.DataFrame'>\n",
      "RangeIndex: 2626 entries, 0 to 2625\n",
      "Data columns (total 26 columns):\n",
      " #   Column                 Non-Null Count  Dtype  \n",
      "---  ------                 --------------  -----  \n",
      " 0   imdb_id                2626 non-null   object \n",
      " 1   adult                  2625 non-null   float64\n",
      " 2   backdrop_path          1377 non-null   object \n",
      " 3   belongs_to_collection  184 non-null    object \n",
      " 4   budget                 2625 non-null   float64\n",
      " 5   genres                 2625 non-null   object \n",
      " 6   homepage               800 non-null    object \n",
      " 7   id                     2625 non-null   float64\n",
      " 8   original_language      2625 non-null   object \n",
      " 9   original_title         2625 non-null   object \n",
      " 10  overview               2544 non-null   object \n",
      " 11  popularity             2625 non-null   float64\n",
      " 12  poster_path            2228 non-null   object \n",
      " 13  production_companies   2625 non-null   object \n",
      " 14  production_countries   2625 non-null   object \n",
      " 15  release_date           2583 non-null   object \n",
      " 16  revenue                2625 non-null   float64\n",
      " 17  runtime                2625 non-null   float64\n",
      " 18  spoken_languages       2625 non-null   object \n",
      " 19  status                 2625 non-null   object \n",
      " 20  tagline                1022 non-null   object \n",
      " 21  title                  2625 non-null   object \n",
      " 22  video                  2625 non-null   float64\n",
      " 23  vote_average           2625 non-null   float64\n",
      " 24  vote_count             2625 non-null   float64\n",
      " 25  certification          723 non-null    object \n",
      "dtypes: float64(9), object(17)\n",
      "memory usage: 533.5+ KB\n"
     ]
    }
   ],
   "source": [
    "tmdb2000 = pd.read_csv('data/final_tmdb_data_2000.csv.gz')\n",
    "tmdb2010 = pd.read_csv('data/final_tmdb_data_2010.csv.gz')\n",
    "tmdb2010.info()"
   ]
  },
  {
   "cell_type": "code",
   "execution_count": 92,
   "id": "2e7a1759",
   "metadata": {},
   "outputs": [],
   "source": [
    "tmdb2000['Year'] = 2000\n",
    "tmdb2010['Year'] = 2010"
   ]
  },
  {
   "cell_type": "code",
   "execution_count": 93,
   "id": "47e19168",
   "metadata": {},
   "outputs": [
    {
     "data": {
      "text/html": [
       "<div>\n",
       "<style scoped>\n",
       "    .dataframe tbody tr th:only-of-type {\n",
       "        vertical-align: middle;\n",
       "    }\n",
       "\n",
       "    .dataframe tbody tr th {\n",
       "        vertical-align: top;\n",
       "    }\n",
       "\n",
       "    .dataframe thead th {\n",
       "        text-align: right;\n",
       "    }\n",
       "</style>\n",
       "<table border=\"1\" class=\"dataframe\">\n",
       "  <thead>\n",
       "    <tr style=\"text-align: right;\">\n",
       "      <th></th>\n",
       "      <th>imdb_id</th>\n",
       "      <th>adult</th>\n",
       "      <th>backdrop_path</th>\n",
       "      <th>belongs_to_collection</th>\n",
       "      <th>budget</th>\n",
       "      <th>genres</th>\n",
       "      <th>homepage</th>\n",
       "      <th>id</th>\n",
       "      <th>original_language</th>\n",
       "      <th>original_title</th>\n",
       "      <th>...</th>\n",
       "      <th>runtime</th>\n",
       "      <th>spoken_languages</th>\n",
       "      <th>status</th>\n",
       "      <th>tagline</th>\n",
       "      <th>title</th>\n",
       "      <th>video</th>\n",
       "      <th>vote_average</th>\n",
       "      <th>vote_count</th>\n",
       "      <th>certification</th>\n",
       "      <th>Year</th>\n",
       "    </tr>\n",
       "  </thead>\n",
       "  <tbody>\n",
       "    <tr>\n",
       "      <th>0</th>\n",
       "      <td>0</td>\n",
       "      <td>NaN</td>\n",
       "      <td>NaN</td>\n",
       "      <td>NaN</td>\n",
       "      <td>NaN</td>\n",
       "      <td>NaN</td>\n",
       "      <td>NaN</td>\n",
       "      <td>NaN</td>\n",
       "      <td>NaN</td>\n",
       "      <td>NaN</td>\n",
       "      <td>...</td>\n",
       "      <td>NaN</td>\n",
       "      <td>NaN</td>\n",
       "      <td>NaN</td>\n",
       "      <td>NaN</td>\n",
       "      <td>NaN</td>\n",
       "      <td>NaN</td>\n",
       "      <td>NaN</td>\n",
       "      <td>NaN</td>\n",
       "      <td>NaN</td>\n",
       "      <td>2000</td>\n",
       "    </tr>\n",
       "    <tr>\n",
       "      <th>1</th>\n",
       "      <td>tt0113026</td>\n",
       "      <td>0.0</td>\n",
       "      <td>/vMFs7nw6P0bIV1jDsQpxAieAVnH.jpg</td>\n",
       "      <td>NaN</td>\n",
       "      <td>10000000.0</td>\n",
       "      <td>[{'id': 35, 'name': 'Comedy'}, {'id': 10402, '...</td>\n",
       "      <td>NaN</td>\n",
       "      <td>62127.0</td>\n",
       "      <td>en</td>\n",
       "      <td>The Fantasticks</td>\n",
       "      <td>...</td>\n",
       "      <td>86.0</td>\n",
       "      <td>[{'english_name': 'English', 'iso_639_1': 'en'...</td>\n",
       "      <td>Released</td>\n",
       "      <td>Try to remember the first time magic happened</td>\n",
       "      <td>The Fantasticks</td>\n",
       "      <td>0.0</td>\n",
       "      <td>5.500</td>\n",
       "      <td>22.0</td>\n",
       "      <td>NaN</td>\n",
       "      <td>2000</td>\n",
       "    </tr>\n",
       "    <tr>\n",
       "      <th>2</th>\n",
       "      <td>tt0113092</td>\n",
       "      <td>0.0</td>\n",
       "      <td>NaN</td>\n",
       "      <td>NaN</td>\n",
       "      <td>0.0</td>\n",
       "      <td>[{'id': 878, 'name': 'Science Fiction'}]</td>\n",
       "      <td>NaN</td>\n",
       "      <td>110977.0</td>\n",
       "      <td>en</td>\n",
       "      <td>For the Cause</td>\n",
       "      <td>...</td>\n",
       "      <td>100.0</td>\n",
       "      <td>[{'english_name': 'English', 'iso_639_1': 'en'...</td>\n",
       "      <td>Released</td>\n",
       "      <td>The ultimate showdown on a forbidden planet.</td>\n",
       "      <td>For the Cause</td>\n",
       "      <td>0.0</td>\n",
       "      <td>5.100</td>\n",
       "      <td>8.0</td>\n",
       "      <td>NaN</td>\n",
       "      <td>2000</td>\n",
       "    </tr>\n",
       "    <tr>\n",
       "      <th>3</th>\n",
       "      <td>tt0116391</td>\n",
       "      <td>0.0</td>\n",
       "      <td>NaN</td>\n",
       "      <td>NaN</td>\n",
       "      <td>0.0</td>\n",
       "      <td>[{'id': 18, 'name': 'Drama'}, {'id': 28, 'name...</td>\n",
       "      <td>NaN</td>\n",
       "      <td>442869.0</td>\n",
       "      <td>hi</td>\n",
       "      <td>Gang</td>\n",
       "      <td>...</td>\n",
       "      <td>152.0</td>\n",
       "      <td>[{'english_name': 'Hindi', 'iso_639_1': 'hi', ...</td>\n",
       "      <td>Released</td>\n",
       "      <td>NaN</td>\n",
       "      <td>Gang</td>\n",
       "      <td>0.0</td>\n",
       "      <td>4.000</td>\n",
       "      <td>1.0</td>\n",
       "      <td>NaN</td>\n",
       "      <td>2000</td>\n",
       "    </tr>\n",
       "    <tr>\n",
       "      <th>4</th>\n",
       "      <td>tt0118694</td>\n",
       "      <td>0.0</td>\n",
       "      <td>/n4GJFGzsc7NinI1VeGDXIcQjtU2.jpg</td>\n",
       "      <td>NaN</td>\n",
       "      <td>150000.0</td>\n",
       "      <td>[{'id': 18, 'name': 'Drama'}, {'id': 10749, 'n...</td>\n",
       "      <td>http://www.wkw-inthemoodforlove.com/</td>\n",
       "      <td>843.0</td>\n",
       "      <td>cn</td>\n",
       "      <td>花樣年華</td>\n",
       "      <td>...</td>\n",
       "      <td>99.0</td>\n",
       "      <td>[{'english_name': 'Cantonese', 'iso_639_1': 'c...</td>\n",
       "      <td>Released</td>\n",
       "      <td>Feel the heat, keep the feeling burning, let t...</td>\n",
       "      <td>In the Mood for Love</td>\n",
       "      <td>0.0</td>\n",
       "      <td>8.104</td>\n",
       "      <td>2027.0</td>\n",
       "      <td>PG</td>\n",
       "      <td>2000</td>\n",
       "    </tr>\n",
       "  </tbody>\n",
       "</table>\n",
       "<p>5 rows × 27 columns</p>\n",
       "</div>"
      ],
      "text/plain": [
       "     imdb_id  adult                     backdrop_path belongs_to_collection  \\\n",
       "0          0    NaN                               NaN                   NaN   \n",
       "1  tt0113026    0.0  /vMFs7nw6P0bIV1jDsQpxAieAVnH.jpg                   NaN   \n",
       "2  tt0113092    0.0                               NaN                   NaN   \n",
       "3  tt0116391    0.0                               NaN                   NaN   \n",
       "4  tt0118694    0.0  /n4GJFGzsc7NinI1VeGDXIcQjtU2.jpg                   NaN   \n",
       "\n",
       "       budget                                             genres  \\\n",
       "0         NaN                                                NaN   \n",
       "1  10000000.0  [{'id': 35, 'name': 'Comedy'}, {'id': 10402, '...   \n",
       "2         0.0           [{'id': 878, 'name': 'Science Fiction'}]   \n",
       "3         0.0  [{'id': 18, 'name': 'Drama'}, {'id': 28, 'name...   \n",
       "4    150000.0  [{'id': 18, 'name': 'Drama'}, {'id': 10749, 'n...   \n",
       "\n",
       "                               homepage        id original_language  \\\n",
       "0                                   NaN       NaN               NaN   \n",
       "1                                   NaN   62127.0                en   \n",
       "2                                   NaN  110977.0                en   \n",
       "3                                   NaN  442869.0                hi   \n",
       "4  http://www.wkw-inthemoodforlove.com/     843.0                cn   \n",
       "\n",
       "    original_title  ... runtime  \\\n",
       "0              NaN  ...     NaN   \n",
       "1  The Fantasticks  ...    86.0   \n",
       "2    For the Cause  ...   100.0   \n",
       "3             Gang  ...   152.0   \n",
       "4             花樣年華  ...    99.0   \n",
       "\n",
       "                                    spoken_languages    status  \\\n",
       "0                                                NaN       NaN   \n",
       "1  [{'english_name': 'English', 'iso_639_1': 'en'...  Released   \n",
       "2  [{'english_name': 'English', 'iso_639_1': 'en'...  Released   \n",
       "3  [{'english_name': 'Hindi', 'iso_639_1': 'hi', ...  Released   \n",
       "4  [{'english_name': 'Cantonese', 'iso_639_1': 'c...  Released   \n",
       "\n",
       "                                             tagline                 title  \\\n",
       "0                                                NaN                   NaN   \n",
       "1      Try to remember the first time magic happened       The Fantasticks   \n",
       "2       The ultimate showdown on a forbidden planet.         For the Cause   \n",
       "3                                                NaN                  Gang   \n",
       "4  Feel the heat, keep the feeling burning, let t...  In the Mood for Love   \n",
       "\n",
       "  video  vote_average  vote_count certification  Year  \n",
       "0   NaN           NaN         NaN           NaN  2000  \n",
       "1   0.0         5.500        22.0           NaN  2000  \n",
       "2   0.0         5.100         8.0           NaN  2000  \n",
       "3   0.0         4.000         1.0           NaN  2000  \n",
       "4   0.0         8.104      2027.0            PG  2000  \n",
       "\n",
       "[5 rows x 27 columns]"
      ]
     },
     "execution_count": 93,
     "metadata": {},
     "output_type": "execute_result"
    }
   ],
   "source": [
    "dfb = pd.concat([tmdb2000, tmdb2010], ignore_index=True)\n",
    "dfb.head()"
   ]
  },
  {
   "cell_type": "code",
   "execution_count": 95,
   "id": "a3565ecb",
   "metadata": {},
   "outputs": [
    {
     "data": {
      "text/plain": [
       "array([2000, 2010])"
      ]
     },
     "execution_count": 95,
     "metadata": {},
     "output_type": "execute_result"
    }
   ],
   "source": [
    "dfb['Year'].unique()"
   ]
  },
  {
   "cell_type": "code",
   "execution_count": 96,
   "id": "c5459eb5",
   "metadata": {},
   "outputs": [
    {
     "name": "stdout",
     "output_type": "stream",
     "text": [
      "<class 'pandas.core.frame.DataFrame'>\n",
      "Int64Index: 999 entries, 1 to 3833\n",
      "Data columns (total 27 columns):\n",
      " #   Column                 Non-Null Count  Dtype  \n",
      "---  ------                 --------------  -----  \n",
      " 0   imdb_id                999 non-null    object \n",
      " 1   adult                  999 non-null    float64\n",
      " 2   backdrop_path          782 non-null    object \n",
      " 3   belongs_to_collection  148 non-null    object \n",
      " 4   budget                 999 non-null    float64\n",
      " 5   genres                 999 non-null    object \n",
      " 6   homepage               393 non-null    object \n",
      " 7   id                     999 non-null    float64\n",
      " 8   original_language      999 non-null    object \n",
      " 9   original_title         999 non-null    object \n",
      " 10  overview               991 non-null    object \n",
      " 11  popularity             999 non-null    float64\n",
      " 12  poster_path            951 non-null    object \n",
      " 13  production_companies   999 non-null    object \n",
      " 14  production_countries   999 non-null    object \n",
      " 15  release_date           995 non-null    object \n",
      " 16  revenue                999 non-null    float64\n",
      " 17  runtime                999 non-null    float64\n",
      " 18  spoken_languages       999 non-null    object \n",
      " 19  status                 999 non-null    object \n",
      " 20  tagline                697 non-null    object \n",
      " 21  title                  999 non-null    object \n",
      " 22  video                  999 non-null    float64\n",
      " 23  vote_average           999 non-null    float64\n",
      " 24  vote_count             999 non-null    float64\n",
      " 25  certification          598 non-null    object \n",
      " 26  Year                   999 non-null    int64  \n",
      "dtypes: float64(9), int64(1), object(17)\n",
      "memory usage: 218.5+ KB\n"
     ]
    }
   ],
   "source": [
    "dfb = dfb[(dfb['budget']>0)|(dfb['revenue']>0)]\n",
    "dfb.info()"
   ]
  },
  {
   "cell_type": "code",
   "execution_count": 104,
   "id": "202ca8d2",
   "metadata": {},
   "outputs": [],
   "source": [
    "bud2000 = dfb.loc[dfb['Year']==2000,'budget']\n",
    "bud2010 = dfb.loc[dfb['Year']==2010,'budget']"
   ]
  },
  {
   "cell_type": "code",
   "execution_count": 105,
   "id": "54c32965",
   "metadata": {},
   "outputs": [
    {
     "data": {
      "text/plain": [
       "2010    705\n",
       "2000    294\n",
       "Name: Year, dtype: int64"
      ]
     },
     "execution_count": 105,
     "metadata": {},
     "output_type": "execute_result"
    }
   ],
   "source": [
    "dfb['Year'].value_counts()"
   ]
  },
  {
   "cell_type": "markdown",
   "id": "bf4f211f",
   "metadata": {},
   "source": [
    "### Visualization"
   ]
  },
  {
   "cell_type": "code",
   "execution_count": 124,
   "id": "965ee951",
   "metadata": {},
   "outputs": [
    {
     "data": {
      "image/png": "[encoded data removed]",
      "text/plain": [
       "<Figure size 1000x500 with 2 Axes>"
      ]
     },
     "metadata": {},
     "output_type": "display_data"
    }
   ],
   "source": [
    "movie_palette={2000:'dodgerblue', 2010:'orange'}\n",
    "\n",
    "## Visualizing Sample means\n",
    "fig, (ax,ax_bar) = plt.subplots(figsize= (10,5), ncols=2, \n",
    "                                constrained_layout=True,\n",
    "                                gridspec_kw={'width_ratios':[0.8,0.2]})\n",
    "\n",
    "\n",
    "# Histogram\n",
    "ax = sns.histplot(data=dfb[['Year','budget']], x='budget',fill=True,hue='Year',kde=True,\n",
    "                  stat='density',common_norm=False,ax=ax,\n",
    "                  palette=movie_palette)\n",
    " \n",
    "ax.axvline(np.mean(bud2000), ls='--',lw=3, \n",
    "           label=f\"2000 Movie (n={len(bud2000)}, Mean={np.mean(bud2000):.1f})\",color=movie_palette[2000])\n",
    "\n",
    "ax.axvline(np.mean(bud2010), ls='--', lw=3, \n",
    "           label=f\"2010 Movie (n={len(bud2010)}, Mean={np.mean(bud2010):.1f})\",color=movie_palette[2010])\n",
    "ax.set_xlim([0, 80000000])\n",
    "ax.legend(prop={\"size\":14}, loc='upper right')\n",
    "\n",
    "## Barplot\n",
    "sns.barplot(data=dfb[['Year','budget']], x='Year',y='budget',ax = ax_bar,palette=movie_palette)\n",
    "fig.suptitle('Comparison of Movie Budget by Year',fontsize='xx-large');"
   ]
  },
  {
   "cell_type": "markdown",
   "id": "a9f615c0",
   "metadata": {},
   "source": [
    "### Test for Outliers"
   ]
  },
  {
   "cell_type": "code",
   "execution_count": 110,
   "id": "a6d3dc0b",
   "metadata": {},
   "outputs": [
    {
     "data": {
      "text/plain": [
       "5"
      ]
     },
     "execution_count": 110,
     "metadata": {},
     "output_type": "execute_result"
    }
   ],
   "source": [
    "zscores_s = stats.zscore(bud2000)\n",
    "outliers_s = abs(zscores_s)>3\n",
    "np.sum(outliers_s)"
   ]
  },
  {
   "cell_type": "code",
   "execution_count": 111,
   "id": "e04e9812",
   "metadata": {},
   "outputs": [],
   "source": [
    "bud2000 = bud2000[(np.abs(stats.zscore(bud2000)) < 3)]"
   ]
  },
  {
   "cell_type": "code",
   "execution_count": 112,
   "id": "eee84924",
   "metadata": {},
   "outputs": [
    {
     "data": {
      "text/plain": [
       "19"
      ]
     },
     "execution_count": 112,
     "metadata": {},
     "output_type": "execute_result"
    }
   ],
   "source": [
    "zscores_s = stats.zscore(bud2010)\n",
    "outliers_s = abs(zscores_s)>3\n",
    "np.sum(outliers_s)"
   ]
  },
  {
   "cell_type": "code",
   "execution_count": 113,
   "id": "0c671294",
   "metadata": {},
   "outputs": [],
   "source": [
    "bud2010 = bud2010[(np.abs(stats.zscore(bud2010)) < 3)]"
   ]
  },
  {
   "cell_type": "markdown",
   "id": "4d88f4e1",
   "metadata": {},
   "source": [
    "### Test for Normality"
   ]
  },
  {
   "cell_type": "code",
   "execution_count": 114,
   "id": "f40d2cb0",
   "metadata": {},
   "outputs": [
    {
     "data": {
      "text/plain": [
       "NormaltestResult(statistic=71.26916000869625, pvalue=3.3427087575519074e-16)"
      ]
     },
     "execution_count": 114,
     "metadata": {},
     "output_type": "execute_result"
    }
   ],
   "source": [
    "stats.normaltest(bud2000)\n",
    "#2000 Movie Group is not normal, but the sample size is greater than 15, so will proceed"
   ]
  },
  {
   "cell_type": "code",
   "execution_count": 115,
   "id": "5297f9a5",
   "metadata": {},
   "outputs": [
    {
     "data": {
      "text/plain": [
       "NormaltestResult(statistic=441.5596036912111, pvalue=1.3078271314788293e-96)"
      ]
     },
     "execution_count": 115,
     "metadata": {},
     "output_type": "execute_result"
    }
   ],
   "source": [
    "stats.normaltest(bud2010)\n",
    "#2010 Movie Group is not normal, but the sample size is greater than 15, so will proceed"
   ]
  },
  {
   "cell_type": "markdown",
   "id": "eb3be9bc",
   "metadata": {},
   "source": [
    "### Test for Equal Variance"
   ]
  },
  {
   "cell_type": "code",
   "execution_count": 116,
   "id": "4129e480",
   "metadata": {},
   "outputs": [
    {
     "data": {
      "text/plain": [
       "LeveneResult(statistic=37.0614174117595, pvalue=1.6450875991722553e-09)"
      ]
     },
     "execution_count": 116,
     "metadata": {},
     "output_type": "execute_result"
    }
   ],
   "source": [
    "stats.levene(bud2000,bud2010)\n",
    "#Failed the assumption of equal variance, need to include equal_var=False"
   ]
  },
  {
   "cell_type": "markdown",
   "id": "a4362cdd",
   "metadata": {},
   "source": [
    "### Perform T-Test"
   ]
  },
  {
   "cell_type": "code",
   "execution_count": 120,
   "id": "016f4585",
   "metadata": {},
   "outputs": [
    {
     "name": "stdout",
     "output_type": "stream",
     "text": [
      "True, 1.070855342577773e-08\n"
     ]
    }
   ],
   "source": [
    "result = stats.ttest_ind(bud2000,bud2010,equal_var = False)\n",
    "print(f'{result.pvalue < .05}, {result.pvalue}')\n",
    "#Fail to reject Null, Accept Alt"
   ]
  },
  {
   "cell_type": "markdown",
   "id": "0187656c",
   "metadata": {},
   "source": [
    "- In conclusion, we failed to reject the Null Hypothesis and accepted the Alt. Hypothesis.\n",
    "- Movies made in 2010 have a greater budget than movies from 2000\n",
    "- This shift is compared to the visual is due to removing outliers."
   ]
  },
  {
   "cell_type": "code",
   "execution_count": null,
   "id": "f0a6d945",
   "metadata": {},
   "outputs": [],
   "source": []
  }
 ],
 "metadata": {
  "kernelspec": {
   "display_name": "Python (dojo-env)",
   "language": "python",
   "name": "dojo-env"
  },
  "language_info": {
   "codemirror_mode": {
    "name": "ipython",
    "version": 3
   },
   "file_extension": ".py",
   "mimetype": "text/x-python",
   "name": "python",
   "nbconvert_exporter": "python",
   "pygments_lexer": "ipython3",
   "version": "3.8.13"
  },
  "toc": {
   "base_numbering": 1,
   "nav_menu": {},
   "number_sections": true,
   "sideBar": true,
   "skip_h1_title": false,
   "title_cell": "Table of Contents",
   "title_sidebar": "Contents",
   "toc_cell": false,
   "toc_position": {
    "height": "calc(100% - 180px)",
    "left": "10px",
    "top": "150px",
    "width": "288px"
   },
   "toc_section_display": true,
   "toc_window_display": true
  }
 },
 "nbformat": 4,
 "nbformat_minor": 5
}
